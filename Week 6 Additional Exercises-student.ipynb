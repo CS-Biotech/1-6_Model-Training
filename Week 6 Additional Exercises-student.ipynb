{
 "cells": [
  {
   "attachments": {},
   "cell_type": "markdown",
   "metadata": {},
   "source": [
    "# Week 6: Model Training\n",
    "# Additional Exercises\n",
    "\n",
    "In this module, we will revisit the Heart failure dataset that you have seen before. We want to perform logistic regression on our model and evaluate its accuracy. You will apply what you have learned from the main module to this additional exercise. Below, we have imported the necessary modules/packages, as well as preprocessed the data in the same way that was done in the data science portion. Instatiate the model and train the model using `train_scaled` and `train_targets`. Start with a learning rate of 0.0001 and 100 epochs. Play around with the hyperparameters until you get an accuracy greater than 80%.\n",
    "\n",
    "**Below, we have provided some guidance. Try to complete the rest of the code.**"
   ]
  },
  {
   "cell_type": "code",
   "execution_count": null,
   "metadata": {},
   "outputs": [],
   "source": [
    "# Import packages\n",
    "import warnings\n",
    "warnings.filterwarnings('ignore')\n",
    "\n",
    "import pandas as pd\n",
    "from sklearn.linear_model import SGDClassifier\n",
    "from sklearn.preprocessing import StandardScaler\n",
    "from sklearn.model_selection import train_test_split\n",
    "from sklearn.metrics import accuracy_score"
   ]
  },
  {
   "cell_type": "code",
   "execution_count": null,
   "metadata": {},
   "outputs": [],
   "source": [
    "# TODO: Load the dataset\n",
    "df = \n",
    "\n",
    "# TODO: Isolate our target `DEATH_EVENT`\n",
    "target = \n",
    "\n",
    "# TODO:  Remove the target from the features (due to target leakage)\n",
    "predictors =\n",
    "\n",
    "# Split dataset into test and train; DO NOT MODIFY\n",
    "train_inputs, test_inputs, train_targets, test_targets = train_test_split(predictors, target, test_size = 0.20, shuffle = True, random_state=7)\n",
    "\n",
    "# Scaling the features\n",
    "sc = StandardScaler()\n",
    "train_scaled = sc.fit_transform(train_inputs.astype(float, 64))\n",
    "test_scaled = sc.transform(test_inputs.astype(float, 64))\n",
    "train_scaled = pd.DataFrame(train_scaled, columns=test_inputs.columns)\n",
    "test_scaled = pd.DataFrame(test_scaled, columns=train_inputs.columns)\n",
    "\n",
    "# to keep naming consistent (can use either variable)\n",
    "train_inputs = train_scaled\n",
    "test_inputs = test_scaled"
   ]
  },
  {
   "cell_type": "code",
   "execution_count": null,
   "metadata": {},
   "outputs": [],
   "source": [
    "# TODO: Complete the code to instantiate and train the model here.\n",
    "\n",
    "# Initialize SGDClassifier for logistic regression\n",
    "\n",
    "# Fit the model\n",
    "\n",
    "# Evaluate the model using the code below\n",
    "predictions = model.predict(test_scaled)\n",
    "accuracy = accuracy_score(test_targets, predictions)\n",
    "print(\"Model Accuracy:\", accuracy)"
   ]
  },
  {
   "cell_type": "markdown",
   "metadata": {},
   "source": [
    "In next week's Additional Exercises, you will be evaluating the model you trained on various metrics. After training the model above, save the model using the `pickle` library. You can refer to this week's pre-module on how to do this. Save the model with a meaningful name so you can find it later, like `hf_model.pkl`. Check your folder to make sure it is saved."
   ]
  },
  {
   "cell_type": "code",
   "execution_count": null,
   "metadata": {},
   "outputs": [],
   "source": [
    "# Save the model to a file\n",
    "import pickle\n",
    "\n",
    "# TODO: Complete this code\n",
    "with open(..., 'wb') as file:\n",
    "    ..."
   ]
  }
 ],
 "metadata": {
  "kernelspec": {
   "display_name": "Python 3 (ipykernel)",
   "language": "python",
   "name": "python3"
  },
  "language_info": {
   "codemirror_mode": {
    "name": "ipython",
    "version": 3
   },
   "file_extension": ".py",
   "mimetype": "text/x-python",
   "name": "python",
   "nbconvert_exporter": "python",
   "pygments_lexer": "ipython3",
   "version": "3.11.6"
  }
 },
 "nbformat": 4,
 "nbformat_minor": 4
}
